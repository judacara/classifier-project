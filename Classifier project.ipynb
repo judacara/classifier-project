{
 "cells": [
  {
   "cell_type": "markdown",
   "id": "9e4908b8-cfa6-4683-a4f3-f9825bcf4048",
   "metadata": {},
   "source": [
    "                            PREDICTION OF EMPLOYEES SATISFACTION"
   ]
  },
  {
   "cell_type": "markdown",
   "id": "57238ca1-7a2e-4e2b-86cf-6731afb226ad",
   "metadata": {},
   "source": [
    "Using a data base where there's different information regarding some employees, the goal is to make a predictive model for one of those features, 'employee satisfaction'."
   ]
  },
  {
   "cell_type": "code",
   "execution_count": 2,
   "id": "7e61f4f9-af84-44ff-b78b-f3c0ab2e9e56",
   "metadata": {},
   "outputs": [],
   "source": [
    "#Libraries\n",
    "\n",
    "import pandas as pd\n",
    "import numpy as np\n",
    "import matplotlib as mpl\n",
    "import matplotlib.pyplot as plt\n",
    "\n",
    "\n",
    "from sklearn.model_selection import train_test_split\n",
    "from sklearn.metrics import accuracy_score\n",
    "\n",
    "from sklearn.preprocessing import MinMaxScaler\n",
    "from sklearn.model_selection import GridSearchCV\n",
    "\n",
    "\n",
    "from sklearn.linear_model import LogisticRegression\n",
    "from sklearn.svm import SVC\n",
    "\n",
    "\n",
    "from sklearn.tree import DecisionTreeClassifier\n",
    "\n",
    "\n",
    "from sklearn.neighbors import KNeighborsClassifier \n",
    "from sklearn.ensemble import RandomForestClassifier"
   ]
  },
  {
   "cell_type": "code",
   "execution_count": 3,
   "id": "ef95c422-9fb1-4d51-ac58-398caf74976f",
   "metadata": {},
   "outputs": [
    {
     "data": {
      "text/html": [
       "<div>\n",
       "<style scoped>\n",
       "    .dataframe tbody tr th:only-of-type {\n",
       "        vertical-align: middle;\n",
       "    }\n",
       "\n",
       "    .dataframe tbody tr th {\n",
       "        vertical-align: top;\n",
       "    }\n",
       "\n",
       "    .dataframe thead th {\n",
       "        text-align: right;\n",
       "    }\n",
       "</style>\n",
       "<table border=\"1\" class=\"dataframe\">\n",
       "  <thead>\n",
       "    <tr style=\"text-align: right;\">\n",
       "      <th></th>\n",
       "      <th>Age</th>\n",
       "      <th>Attrition</th>\n",
       "      <th>BusinessTravel</th>\n",
       "      <th>DailyRate</th>\n",
       "      <th>Department</th>\n",
       "      <th>DistanceFromHome</th>\n",
       "      <th>Education</th>\n",
       "      <th>EducationField</th>\n",
       "      <th>EmployeeCount</th>\n",
       "      <th>EmployeeNumber</th>\n",
       "      <th>...</th>\n",
       "      <th>RelationshipSatisfaction</th>\n",
       "      <th>StandardHours</th>\n",
       "      <th>StockOptionLevel</th>\n",
       "      <th>TotalWorkingYears</th>\n",
       "      <th>TrainingTimesLastYear</th>\n",
       "      <th>WorkLifeBalance</th>\n",
       "      <th>YearsAtCompany</th>\n",
       "      <th>YearsInCurrentRole</th>\n",
       "      <th>YearsSinceLastPromotion</th>\n",
       "      <th>YearsWithCurrManager</th>\n",
       "    </tr>\n",
       "  </thead>\n",
       "  <tbody>\n",
       "    <tr>\n",
       "      <th>0</th>\n",
       "      <td>41</td>\n",
       "      <td>Yes</td>\n",
       "      <td>Travel_Rarely</td>\n",
       "      <td>1102</td>\n",
       "      <td>Sales</td>\n",
       "      <td>1</td>\n",
       "      <td>2</td>\n",
       "      <td>Life Sciences</td>\n",
       "      <td>1</td>\n",
       "      <td>1</td>\n",
       "      <td>...</td>\n",
       "      <td>1</td>\n",
       "      <td>80</td>\n",
       "      <td>0</td>\n",
       "      <td>8</td>\n",
       "      <td>0</td>\n",
       "      <td>1</td>\n",
       "      <td>6</td>\n",
       "      <td>4</td>\n",
       "      <td>0</td>\n",
       "      <td>5</td>\n",
       "    </tr>\n",
       "    <tr>\n",
       "      <th>1</th>\n",
       "      <td>49</td>\n",
       "      <td>No</td>\n",
       "      <td>Travel_Frequently</td>\n",
       "      <td>279</td>\n",
       "      <td>Research &amp; Development</td>\n",
       "      <td>8</td>\n",
       "      <td>1</td>\n",
       "      <td>Life Sciences</td>\n",
       "      <td>1</td>\n",
       "      <td>2</td>\n",
       "      <td>...</td>\n",
       "      <td>4</td>\n",
       "      <td>80</td>\n",
       "      <td>1</td>\n",
       "      <td>10</td>\n",
       "      <td>3</td>\n",
       "      <td>3</td>\n",
       "      <td>10</td>\n",
       "      <td>7</td>\n",
       "      <td>1</td>\n",
       "      <td>7</td>\n",
       "    </tr>\n",
       "    <tr>\n",
       "      <th>2</th>\n",
       "      <td>37</td>\n",
       "      <td>Yes</td>\n",
       "      <td>Travel_Rarely</td>\n",
       "      <td>1373</td>\n",
       "      <td>Research &amp; Development</td>\n",
       "      <td>2</td>\n",
       "      <td>2</td>\n",
       "      <td>Other</td>\n",
       "      <td>1</td>\n",
       "      <td>4</td>\n",
       "      <td>...</td>\n",
       "      <td>2</td>\n",
       "      <td>80</td>\n",
       "      <td>0</td>\n",
       "      <td>7</td>\n",
       "      <td>3</td>\n",
       "      <td>3</td>\n",
       "      <td>0</td>\n",
       "      <td>0</td>\n",
       "      <td>0</td>\n",
       "      <td>0</td>\n",
       "    </tr>\n",
       "    <tr>\n",
       "      <th>3</th>\n",
       "      <td>33</td>\n",
       "      <td>No</td>\n",
       "      <td>Travel_Frequently</td>\n",
       "      <td>1392</td>\n",
       "      <td>Research &amp; Development</td>\n",
       "      <td>3</td>\n",
       "      <td>4</td>\n",
       "      <td>Life Sciences</td>\n",
       "      <td>1</td>\n",
       "      <td>5</td>\n",
       "      <td>...</td>\n",
       "      <td>3</td>\n",
       "      <td>80</td>\n",
       "      <td>0</td>\n",
       "      <td>8</td>\n",
       "      <td>3</td>\n",
       "      <td>3</td>\n",
       "      <td>8</td>\n",
       "      <td>7</td>\n",
       "      <td>3</td>\n",
       "      <td>0</td>\n",
       "    </tr>\n",
       "    <tr>\n",
       "      <th>4</th>\n",
       "      <td>27</td>\n",
       "      <td>No</td>\n",
       "      <td>Travel_Rarely</td>\n",
       "      <td>591</td>\n",
       "      <td>Research &amp; Development</td>\n",
       "      <td>2</td>\n",
       "      <td>1</td>\n",
       "      <td>Medical</td>\n",
       "      <td>1</td>\n",
       "      <td>7</td>\n",
       "      <td>...</td>\n",
       "      <td>4</td>\n",
       "      <td>80</td>\n",
       "      <td>1</td>\n",
       "      <td>6</td>\n",
       "      <td>3</td>\n",
       "      <td>3</td>\n",
       "      <td>2</td>\n",
       "      <td>2</td>\n",
       "      <td>2</td>\n",
       "      <td>2</td>\n",
       "    </tr>\n",
       "  </tbody>\n",
       "</table>\n",
       "<p>5 rows × 35 columns</p>\n",
       "</div>"
      ],
      "text/plain": [
       "   Age Attrition     BusinessTravel  DailyRate              Department  \\\n",
       "0   41       Yes      Travel_Rarely       1102                   Sales   \n",
       "1   49        No  Travel_Frequently        279  Research & Development   \n",
       "2   37       Yes      Travel_Rarely       1373  Research & Development   \n",
       "3   33        No  Travel_Frequently       1392  Research & Development   \n",
       "4   27        No      Travel_Rarely        591  Research & Development   \n",
       "\n",
       "   DistanceFromHome  Education EducationField  EmployeeCount  EmployeeNumber  \\\n",
       "0                 1          2  Life Sciences              1               1   \n",
       "1                 8          1  Life Sciences              1               2   \n",
       "2                 2          2          Other              1               4   \n",
       "3                 3          4  Life Sciences              1               5   \n",
       "4                 2          1        Medical              1               7   \n",
       "\n",
       "   ...  RelationshipSatisfaction StandardHours  StockOptionLevel  \\\n",
       "0  ...                         1            80                 0   \n",
       "1  ...                         4            80                 1   \n",
       "2  ...                         2            80                 0   \n",
       "3  ...                         3            80                 0   \n",
       "4  ...                         4            80                 1   \n",
       "\n",
       "   TotalWorkingYears  TrainingTimesLastYear WorkLifeBalance  YearsAtCompany  \\\n",
       "0                  8                      0               1               6   \n",
       "1                 10                      3               3              10   \n",
       "2                  7                      3               3               0   \n",
       "3                  8                      3               3               8   \n",
       "4                  6                      3               3               2   \n",
       "\n",
       "  YearsInCurrentRole  YearsSinceLastPromotion  YearsWithCurrManager  \n",
       "0                  4                        0                     5  \n",
       "1                  7                        1                     7  \n",
       "2                  0                        0                     0  \n",
       "3                  7                        3                     0  \n",
       "4                  2                        2                     2  \n",
       "\n",
       "[5 rows x 35 columns]"
      ]
     },
     "execution_count": 3,
     "metadata": {},
     "output_type": "execute_result"
    }
   ],
   "source": [
    "#Data uploading and preparation\n",
    "\n",
    "df = pd.read_excel('info_satisfaccion_trabajo.xlsx')\n",
    "df.head()"
   ]
  },
  {
   "cell_type": "code",
   "execution_count": 3,
   "id": "e056826e-30cc-4f76-b962-3572b0f392ed",
   "metadata": {},
   "outputs": [
    {
     "name": "stdout",
     "output_type": "stream",
     "text": [
      "<class 'pandas.core.frame.DataFrame'>\n",
      "RangeIndex: 1470 entries, 0 to 1469\n",
      "Data columns (total 35 columns):\n",
      " #   Column                    Non-Null Count  Dtype \n",
      "---  ------                    --------------  ----- \n",
      " 0   Age                       1470 non-null   int64 \n",
      " 1   Attrition                 1470 non-null   object\n",
      " 2   BusinessTravel            1470 non-null   object\n",
      " 3   DailyRate                 1470 non-null   int64 \n",
      " 4   Department                1470 non-null   object\n",
      " 5   DistanceFromHome          1470 non-null   int64 \n",
      " 6   Education                 1470 non-null   int64 \n",
      " 7   EducationField            1470 non-null   object\n",
      " 8   EmployeeCount             1470 non-null   int64 \n",
      " 9   EmployeeNumber            1470 non-null   int64 \n",
      " 10  EnvironmentSatisfaction   1470 non-null   int64 \n",
      " 11  Gender                    1470 non-null   object\n",
      " 12  HourlyRate                1470 non-null   int64 \n",
      " 13  JobInvolvement            1470 non-null   int64 \n",
      " 14  JobLevel                  1470 non-null   int64 \n",
      " 15  JobRole                   1470 non-null   object\n",
      " 16  JobSatisfaction           1470 non-null   int64 \n",
      " 17  MaritalStatus             1470 non-null   object\n",
      " 18  MonthlyIncome             1470 non-null   int64 \n",
      " 19  MonthlyRate               1470 non-null   int64 \n",
      " 20  NumCompaniesWorked        1470 non-null   int64 \n",
      " 21  Over18                    1470 non-null   object\n",
      " 22  OverTime                  1470 non-null   object\n",
      " 23  PercentSalaryHike         1470 non-null   int64 \n",
      " 24  PerformanceRating         1470 non-null   int64 \n",
      " 25  RelationshipSatisfaction  1470 non-null   int64 \n",
      " 26  StandardHours             1470 non-null   int64 \n",
      " 27  StockOptionLevel          1470 non-null   int64 \n",
      " 28  TotalWorkingYears         1470 non-null   int64 \n",
      " 29  TrainingTimesLastYear     1470 non-null   int64 \n",
      " 30  WorkLifeBalance           1470 non-null   int64 \n",
      " 31  YearsAtCompany            1470 non-null   int64 \n",
      " 32  YearsInCurrentRole        1470 non-null   int64 \n",
      " 33  YearsSinceLastPromotion   1470 non-null   int64 \n",
      " 34  YearsWithCurrManager      1470 non-null   int64 \n",
      "dtypes: int64(26), object(9)\n",
      "memory usage: 402.1+ KB\n"
     ]
    }
   ],
   "source": [
    "df.info()"
   ]
  },
  {
   "cell_type": "code",
   "execution_count": 4,
   "id": "538b5f9d-87ac-49dd-9c49-14366ca0f34d",
   "metadata": {},
   "outputs": [
    {
     "data": {
      "text/plain": [
       "array(['Yes', 'No'], dtype=object)"
      ]
     },
     "execution_count": 4,
     "metadata": {},
     "output_type": "execute_result"
    }
   ],
   "source": [
    "df['Attrition'].unique()"
   ]
  },
  {
   "cell_type": "code",
   "execution_count": 5,
   "id": "dad5b52e-37d4-4144-899c-d45b34384784",
   "metadata": {},
   "outputs": [
    {
     "data": {
      "text/plain": [
       "array(['Travel_Rarely', 'Travel_Frequently', 'Non-Travel'], dtype=object)"
      ]
     },
     "execution_count": 5,
     "metadata": {},
     "output_type": "execute_result"
    }
   ],
   "source": [
    "df['BusinessTravel'].unique()"
   ]
  },
  {
   "cell_type": "code",
   "execution_count": 6,
   "id": "66313c81-4e26-4bea-8d9e-5f6cc38792be",
   "metadata": {},
   "outputs": [
    {
     "data": {
      "text/plain": [
       "array(['Sales', 'Research & Development', 'Human Resources'], dtype=object)"
      ]
     },
     "execution_count": 6,
     "metadata": {},
     "output_type": "execute_result"
    }
   ],
   "source": [
    "df['Department'].unique()"
   ]
  },
  {
   "cell_type": "code",
   "execution_count": 7,
   "id": "4b3c8f72-70ef-4a68-8ce5-bd4673433060",
   "metadata": {},
   "outputs": [
    {
     "data": {
      "text/plain": [
       "array(['Life Sciences', 'Other', 'Medical', 'Marketing',\n",
       "       'Technical Degree', 'Human Resources'], dtype=object)"
      ]
     },
     "execution_count": 7,
     "metadata": {},
     "output_type": "execute_result"
    }
   ],
   "source": [
    "df['EducationField'].unique()"
   ]
  },
  {
   "cell_type": "code",
   "execution_count": 8,
   "id": "0d5b513a-c9fe-4d6b-8af6-8e24bee23773",
   "metadata": {},
   "outputs": [
    {
     "data": {
      "text/plain": [
       "array(['Female', 'Male'], dtype=object)"
      ]
     },
     "execution_count": 8,
     "metadata": {},
     "output_type": "execute_result"
    }
   ],
   "source": [
    "df['Gender'].unique()"
   ]
  },
  {
   "cell_type": "code",
   "execution_count": 9,
   "id": "8168ed3a-775c-4d77-80ff-e16ee70106b2",
   "metadata": {},
   "outputs": [
    {
     "data": {
      "text/plain": [
       "array(['Sales Executive', 'Research Scientist', 'Laboratory Technician',\n",
       "       'Manufacturing Director', 'Healthcare Representative', 'Manager',\n",
       "       'Sales Representative', 'Research Director', 'Human Resources'],\n",
       "      dtype=object)"
      ]
     },
     "execution_count": 9,
     "metadata": {},
     "output_type": "execute_result"
    }
   ],
   "source": [
    "df['JobRole'].unique()"
   ]
  },
  {
   "cell_type": "code",
   "execution_count": 10,
   "id": "d8ff11e2-ad4f-490e-8632-1e333d82fc57",
   "metadata": {},
   "outputs": [
    {
     "data": {
      "text/plain": [
       "array(['Single', 'Married', 'Divorced'], dtype=object)"
      ]
     },
     "execution_count": 10,
     "metadata": {},
     "output_type": "execute_result"
    }
   ],
   "source": [
    "df['MaritalStatus'].unique()"
   ]
  },
  {
   "cell_type": "code",
   "execution_count": 11,
   "id": "e949bf12-475c-4d7b-bb81-2436599b6010",
   "metadata": {},
   "outputs": [
    {
     "data": {
      "text/plain": [
       "array(['Y'], dtype=object)"
      ]
     },
     "execution_count": 11,
     "metadata": {},
     "output_type": "execute_result"
    }
   ],
   "source": [
    "df['Over18'].unique()"
   ]
  },
  {
   "cell_type": "code",
   "execution_count": 12,
   "id": "debf7b15-eb9e-4e2f-b959-704a1a6120f4",
   "metadata": {},
   "outputs": [
    {
     "data": {
      "text/plain": [
       "array(['Yes', 'No'], dtype=object)"
      ]
     },
     "execution_count": 12,
     "metadata": {},
     "output_type": "execute_result"
    }
   ],
   "source": [
    "df['OverTime'].unique()"
   ]
  },
  {
   "cell_type": "code",
   "execution_count": 4,
   "id": "8da25f02-be29-4dd1-8c2d-30f46e317d31",
   "metadata": {},
   "outputs": [
    {
     "data": {
      "text/html": [
       "<div>\n",
       "<style scoped>\n",
       "    .dataframe tbody tr th:only-of-type {\n",
       "        vertical-align: middle;\n",
       "    }\n",
       "\n",
       "    .dataframe tbody tr th {\n",
       "        vertical-align: top;\n",
       "    }\n",
       "\n",
       "    .dataframe thead th {\n",
       "        text-align: right;\n",
       "    }\n",
       "</style>\n",
       "<table border=\"1\" class=\"dataframe\">\n",
       "  <thead>\n",
       "    <tr style=\"text-align: right;\">\n",
       "      <th></th>\n",
       "      <th>Age</th>\n",
       "      <th>Attrition</th>\n",
       "      <th>BusinessTravel</th>\n",
       "      <th>DailyRate</th>\n",
       "      <th>Department</th>\n",
       "      <th>DistanceFromHome</th>\n",
       "      <th>Education</th>\n",
       "      <th>EducationField</th>\n",
       "      <th>EmployeeCount</th>\n",
       "      <th>EmployeeNumber</th>\n",
       "      <th>...</th>\n",
       "      <th>RelationshipSatisfaction</th>\n",
       "      <th>StandardHours</th>\n",
       "      <th>StockOptionLevel</th>\n",
       "      <th>TotalWorkingYears</th>\n",
       "      <th>TrainingTimesLastYear</th>\n",
       "      <th>WorkLifeBalance</th>\n",
       "      <th>YearsAtCompany</th>\n",
       "      <th>YearsInCurrentRole</th>\n",
       "      <th>YearsSinceLastPromotion</th>\n",
       "      <th>YearsWithCurrManager</th>\n",
       "    </tr>\n",
       "  </thead>\n",
       "  <tbody>\n",
       "    <tr>\n",
       "      <th>0</th>\n",
       "      <td>41</td>\n",
       "      <td>2</td>\n",
       "      <td>2</td>\n",
       "      <td>1102</td>\n",
       "      <td>1</td>\n",
       "      <td>1</td>\n",
       "      <td>2</td>\n",
       "      <td>1</td>\n",
       "      <td>1</td>\n",
       "      <td>1</td>\n",
       "      <td>...</td>\n",
       "      <td>1</td>\n",
       "      <td>80</td>\n",
       "      <td>0</td>\n",
       "      <td>8</td>\n",
       "      <td>0</td>\n",
       "      <td>1</td>\n",
       "      <td>6</td>\n",
       "      <td>4</td>\n",
       "      <td>0</td>\n",
       "      <td>5</td>\n",
       "    </tr>\n",
       "    <tr>\n",
       "      <th>1</th>\n",
       "      <td>49</td>\n",
       "      <td>1</td>\n",
       "      <td>3</td>\n",
       "      <td>279</td>\n",
       "      <td>2</td>\n",
       "      <td>8</td>\n",
       "      <td>1</td>\n",
       "      <td>1</td>\n",
       "      <td>1</td>\n",
       "      <td>2</td>\n",
       "      <td>...</td>\n",
       "      <td>4</td>\n",
       "      <td>80</td>\n",
       "      <td>1</td>\n",
       "      <td>10</td>\n",
       "      <td>3</td>\n",
       "      <td>3</td>\n",
       "      <td>10</td>\n",
       "      <td>7</td>\n",
       "      <td>1</td>\n",
       "      <td>7</td>\n",
       "    </tr>\n",
       "    <tr>\n",
       "      <th>2</th>\n",
       "      <td>37</td>\n",
       "      <td>2</td>\n",
       "      <td>2</td>\n",
       "      <td>1373</td>\n",
       "      <td>2</td>\n",
       "      <td>2</td>\n",
       "      <td>2</td>\n",
       "      <td>0</td>\n",
       "      <td>1</td>\n",
       "      <td>4</td>\n",
       "      <td>...</td>\n",
       "      <td>2</td>\n",
       "      <td>80</td>\n",
       "      <td>0</td>\n",
       "      <td>7</td>\n",
       "      <td>3</td>\n",
       "      <td>3</td>\n",
       "      <td>0</td>\n",
       "      <td>0</td>\n",
       "      <td>0</td>\n",
       "      <td>0</td>\n",
       "    </tr>\n",
       "    <tr>\n",
       "      <th>3</th>\n",
       "      <td>33</td>\n",
       "      <td>1</td>\n",
       "      <td>3</td>\n",
       "      <td>1392</td>\n",
       "      <td>2</td>\n",
       "      <td>3</td>\n",
       "      <td>4</td>\n",
       "      <td>1</td>\n",
       "      <td>1</td>\n",
       "      <td>5</td>\n",
       "      <td>...</td>\n",
       "      <td>3</td>\n",
       "      <td>80</td>\n",
       "      <td>0</td>\n",
       "      <td>8</td>\n",
       "      <td>3</td>\n",
       "      <td>3</td>\n",
       "      <td>8</td>\n",
       "      <td>7</td>\n",
       "      <td>3</td>\n",
       "      <td>0</td>\n",
       "    </tr>\n",
       "    <tr>\n",
       "      <th>4</th>\n",
       "      <td>27</td>\n",
       "      <td>1</td>\n",
       "      <td>2</td>\n",
       "      <td>591</td>\n",
       "      <td>2</td>\n",
       "      <td>2</td>\n",
       "      <td>1</td>\n",
       "      <td>2</td>\n",
       "      <td>1</td>\n",
       "      <td>7</td>\n",
       "      <td>...</td>\n",
       "      <td>4</td>\n",
       "      <td>80</td>\n",
       "      <td>1</td>\n",
       "      <td>6</td>\n",
       "      <td>3</td>\n",
       "      <td>3</td>\n",
       "      <td>2</td>\n",
       "      <td>2</td>\n",
       "      <td>2</td>\n",
       "      <td>2</td>\n",
       "    </tr>\n",
       "  </tbody>\n",
       "</table>\n",
       "<p>5 rows × 34 columns</p>\n",
       "</div>"
      ],
      "text/plain": [
       "   Age  Attrition  BusinessTravel  DailyRate  Department  DistanceFromHome  \\\n",
       "0   41          2               2       1102           1                 1   \n",
       "1   49          1               3        279           2                 8   \n",
       "2   37          2               2       1373           2                 2   \n",
       "3   33          1               3       1392           2                 3   \n",
       "4   27          1               2        591           2                 2   \n",
       "\n",
       "   Education  EducationField  EmployeeCount  EmployeeNumber  ...  \\\n",
       "0          2               1              1               1  ...   \n",
       "1          1               1              1               2  ...   \n",
       "2          2               0              1               4  ...   \n",
       "3          4               1              1               5  ...   \n",
       "4          1               2              1               7  ...   \n",
       "\n",
       "   RelationshipSatisfaction  StandardHours  StockOptionLevel  \\\n",
       "0                         1             80                 0   \n",
       "1                         4             80                 1   \n",
       "2                         2             80                 0   \n",
       "3                         3             80                 0   \n",
       "4                         4             80                 1   \n",
       "\n",
       "   TotalWorkingYears  TrainingTimesLastYear  WorkLifeBalance  YearsAtCompany  \\\n",
       "0                  8                      0                1               6   \n",
       "1                 10                      3                3              10   \n",
       "2                  7                      3                3               0   \n",
       "3                  8                      3                3               8   \n",
       "4                  6                      3                3               2   \n",
       "\n",
       "   YearsInCurrentRole  YearsSinceLastPromotion  YearsWithCurrManager  \n",
       "0                   4                        0                     5  \n",
       "1                   7                        1                     7  \n",
       "2                   0                        0                     0  \n",
       "3                   7                        3                     0  \n",
       "4                   2                        2                     2  \n",
       "\n",
       "[5 rows x 34 columns]"
      ]
     },
     "execution_count": 4,
     "metadata": {},
     "output_type": "execute_result"
    }
   ],
   "source": [
    "df['Attrition'].replace({'No': 1, 'Yes': 2}, inplace=True)\n",
    "df['BusinessTravel'].replace({'Travel_Rarely' : 2, 'Travel_Frequently' : 3, 'Non-Travel': 1}, inplace=True)\n",
    "df['Gender'].replace({'Male': 1, 'Female': 2}, inplace=True)\n",
    "df.drop(['Over18'], axis=1, inplace=True)\n",
    "df['OverTime'].replace({'No': 1, 'Yes': 2}, inplace=True)\n",
    "df['Department'].replace({'Sales' : 1, 'Research & Development' : 2, 'Human Resources' : 3}, inplace=True)\n",
    "df['EducationField'].replace({'Life Sciences' : 1, 'Other' : 0, 'Medical' : 2, 'Marketing' : 3,\n",
    "                              'Technical Degree' : 4, 'Human Resources' : 5}, inplace=True)\n",
    "df['JobRole'].replace({'Sales Executive' : 1, 'Research Scientist' : 2, 'Laboratory Technician' : 3,\n",
    "                       'Manufacturing Director' : 4, 'Healthcare Representative' : 5, 'Manager' : 6,\n",
    "                       'Sales Representative' : 7, 'Research Director' : 8, 'Human Resources' : 9},\n",
    "                      inplace=True)\n",
    "df['MaritalStatus'].replace({'Single' : 1, 'Married' : 2, 'Divorced' : 3}, inplace=True)\n",
    "df.head()"
   ]
  },
  {
   "cell_type": "code",
   "execution_count": 14,
   "id": "a1e41af4-58a9-476b-9204-87bc0e04a93b",
   "metadata": {},
   "outputs": [
    {
     "data": {
      "image/png": "[encoded data removed]",
      "text/plain": [
       "<Figure size 1080x1224 with 32 Axes>"
      ]
     },
     "metadata": {},
     "output_type": "display_data"
    }
   ],
   "source": [
    "ncols = 4\n",
    "nrows = 8\n",
    "fig, axes = plt.subplots(nrows=nrows, ncols=ncols, figsize=(15, 17))\n",
    "\n",
    "counter = 0\n",
    "for i in range(nrows):\n",
    "    for j in range(ncols):\n",
    "        ax = axes[i][j]\n",
    "        if counter < len(df.columns):\n",
    "            ax.hist(df[df.columns[counter]], bins=10, color='blue', alpha=0.5, density = True)\n",
    "            ax.set_xlabel(df.columns[counter])\n",
    "            ax.set_xticks([])\n",
    "            ax.set_yticks([])\n",
    "        else:\n",
    "            ax.set_axis_off()\n",
    "        counter += 1\n",
    "\n",
    "plt.show()"
   ]
  },
  {
   "cell_type": "code",
   "execution_count": 5,
   "id": "2f5158dd-b47a-4d8f-9d16-6f7ea72839eb",
   "metadata": {},
   "outputs": [],
   "source": [
    "df.drop(['EmployeeCount', 'StandardHours'], axis=1, inplace=True)"
   ]
  },
  {
   "cell_type": "code",
   "execution_count": 16,
   "id": "f626a9ad-38c1-4840-9081-17147c55488b",
   "metadata": {},
   "outputs": [
    {
     "data": {
      "text/html": [
       "<div>\n",
       "<style scoped>\n",
       "    .dataframe tbody tr th:only-of-type {\n",
       "        vertical-align: middle;\n",
       "    }\n",
       "\n",
       "    .dataframe tbody tr th {\n",
       "        vertical-align: top;\n",
       "    }\n",
       "\n",
       "    .dataframe thead th {\n",
       "        text-align: right;\n",
       "    }\n",
       "</style>\n",
       "<table border=\"1\" class=\"dataframe\">\n",
       "  <thead>\n",
       "    <tr style=\"text-align: right;\">\n",
       "      <th></th>\n",
       "      <th>Age</th>\n",
       "      <th>Attrition</th>\n",
       "      <th>BusinessTravel</th>\n",
       "      <th>DailyRate</th>\n",
       "      <th>Department</th>\n",
       "      <th>DistanceFromHome</th>\n",
       "      <th>Education</th>\n",
       "      <th>EducationField</th>\n",
       "      <th>EmployeeNumber</th>\n",
       "      <th>EnvironmentSatisfaction</th>\n",
       "      <th>...</th>\n",
       "      <th>PerformanceRating</th>\n",
       "      <th>RelationshipSatisfaction</th>\n",
       "      <th>StockOptionLevel</th>\n",
       "      <th>TotalWorkingYears</th>\n",
       "      <th>TrainingTimesLastYear</th>\n",
       "      <th>WorkLifeBalance</th>\n",
       "      <th>YearsAtCompany</th>\n",
       "      <th>YearsInCurrentRole</th>\n",
       "      <th>YearsSinceLastPromotion</th>\n",
       "      <th>YearsWithCurrManager</th>\n",
       "    </tr>\n",
       "  </thead>\n",
       "  <tbody>\n",
       "    <tr>\n",
       "      <th>0</th>\n",
       "      <td>41</td>\n",
       "      <td>2</td>\n",
       "      <td>2</td>\n",
       "      <td>1102</td>\n",
       "      <td>1</td>\n",
       "      <td>1</td>\n",
       "      <td>2</td>\n",
       "      <td>1</td>\n",
       "      <td>1</td>\n",
       "      <td>2</td>\n",
       "      <td>...</td>\n",
       "      <td>3</td>\n",
       "      <td>1</td>\n",
       "      <td>0</td>\n",
       "      <td>8</td>\n",
       "      <td>0</td>\n",
       "      <td>1</td>\n",
       "      <td>6</td>\n",
       "      <td>4</td>\n",
       "      <td>0</td>\n",
       "      <td>5</td>\n",
       "    </tr>\n",
       "    <tr>\n",
       "      <th>1</th>\n",
       "      <td>49</td>\n",
       "      <td>1</td>\n",
       "      <td>3</td>\n",
       "      <td>279</td>\n",
       "      <td>2</td>\n",
       "      <td>8</td>\n",
       "      <td>1</td>\n",
       "      <td>1</td>\n",
       "      <td>2</td>\n",
       "      <td>3</td>\n",
       "      <td>...</td>\n",
       "      <td>4</td>\n",
       "      <td>4</td>\n",
       "      <td>1</td>\n",
       "      <td>10</td>\n",
       "      <td>3</td>\n",
       "      <td>3</td>\n",
       "      <td>10</td>\n",
       "      <td>7</td>\n",
       "      <td>1</td>\n",
       "      <td>7</td>\n",
       "    </tr>\n",
       "    <tr>\n",
       "      <th>2</th>\n",
       "      <td>37</td>\n",
       "      <td>2</td>\n",
       "      <td>2</td>\n",
       "      <td>1373</td>\n",
       "      <td>2</td>\n",
       "      <td>2</td>\n",
       "      <td>2</td>\n",
       "      <td>0</td>\n",
       "      <td>4</td>\n",
       "      <td>4</td>\n",
       "      <td>...</td>\n",
       "      <td>3</td>\n",
       "      <td>2</td>\n",
       "      <td>0</td>\n",
       "      <td>7</td>\n",
       "      <td>3</td>\n",
       "      <td>3</td>\n",
       "      <td>0</td>\n",
       "      <td>0</td>\n",
       "      <td>0</td>\n",
       "      <td>0</td>\n",
       "    </tr>\n",
       "    <tr>\n",
       "      <th>3</th>\n",
       "      <td>33</td>\n",
       "      <td>1</td>\n",
       "      <td>3</td>\n",
       "      <td>1392</td>\n",
       "      <td>2</td>\n",
       "      <td>3</td>\n",
       "      <td>4</td>\n",
       "      <td>1</td>\n",
       "      <td>5</td>\n",
       "      <td>4</td>\n",
       "      <td>...</td>\n",
       "      <td>3</td>\n",
       "      <td>3</td>\n",
       "      <td>0</td>\n",
       "      <td>8</td>\n",
       "      <td>3</td>\n",
       "      <td>3</td>\n",
       "      <td>8</td>\n",
       "      <td>7</td>\n",
       "      <td>3</td>\n",
       "      <td>0</td>\n",
       "    </tr>\n",
       "    <tr>\n",
       "      <th>4</th>\n",
       "      <td>27</td>\n",
       "      <td>1</td>\n",
       "      <td>2</td>\n",
       "      <td>591</td>\n",
       "      <td>2</td>\n",
       "      <td>2</td>\n",
       "      <td>1</td>\n",
       "      <td>2</td>\n",
       "      <td>7</td>\n",
       "      <td>1</td>\n",
       "      <td>...</td>\n",
       "      <td>3</td>\n",
       "      <td>4</td>\n",
       "      <td>1</td>\n",
       "      <td>6</td>\n",
       "      <td>3</td>\n",
       "      <td>3</td>\n",
       "      <td>2</td>\n",
       "      <td>2</td>\n",
       "      <td>2</td>\n",
       "      <td>2</td>\n",
       "    </tr>\n",
       "  </tbody>\n",
       "</table>\n",
       "<p>5 rows × 32 columns</p>\n",
       "</div>"
      ],
      "text/plain": [
       "   Age  Attrition  BusinessTravel  DailyRate  Department  DistanceFromHome  \\\n",
       "0   41          2               2       1102           1                 1   \n",
       "1   49          1               3        279           2                 8   \n",
       "2   37          2               2       1373           2                 2   \n",
       "3   33          1               3       1392           2                 3   \n",
       "4   27          1               2        591           2                 2   \n",
       "\n",
       "   Education  EducationField  EmployeeNumber  EnvironmentSatisfaction  ...  \\\n",
       "0          2               1               1                        2  ...   \n",
       "1          1               1               2                        3  ...   \n",
       "2          2               0               4                        4  ...   \n",
       "3          4               1               5                        4  ...   \n",
       "4          1               2               7                        1  ...   \n",
       "\n",
       "   PerformanceRating  RelationshipSatisfaction  StockOptionLevel  \\\n",
       "0                  3                         1                 0   \n",
       "1                  4                         4                 1   \n",
       "2                  3                         2                 0   \n",
       "3                  3                         3                 0   \n",
       "4                  3                         4                 1   \n",
       "\n",
       "   TotalWorkingYears  TrainingTimesLastYear  WorkLifeBalance  YearsAtCompany  \\\n",
       "0                  8                      0                1               6   \n",
       "1                 10                      3                3              10   \n",
       "2                  7                      3                3               0   \n",
       "3                  8                      3                3               8   \n",
       "4                  6                      3                3               2   \n",
       "\n",
       "   YearsInCurrentRole  YearsSinceLastPromotion  YearsWithCurrManager  \n",
       "0                   4                        0                     5  \n",
       "1                   7                        1                     7  \n",
       "2                   0                        0                     0  \n",
       "3                   7                        3                     0  \n",
       "4                   2                        2                     2  \n",
       "\n",
       "[5 rows x 32 columns]"
      ]
     },
     "execution_count": 16,
     "metadata": {},
     "output_type": "execute_result"
    }
   ],
   "source": [
    "df.head()"
   ]
  },
  {
   "cell_type": "markdown",
   "id": "14e2e25f-999d-40a5-bfd8-2f8a9f45b538",
   "metadata": {},
   "source": [
    "Now that the data is clean and prepared, we proceed to analyze two different classifiers so we achieve the goal proposed. First we divide the data set into training and test sets so we can test our model. Then we try to look for the best possible parameters for the models."
   ]
  },
  {
   "cell_type": "code",
   "execution_count": 6,
   "id": "b18d0c04-1e35-4bda-a70b-2a7ec4740db7",
   "metadata": {},
   "outputs": [],
   "source": [
    "y = df['JobSatisfaction']\n",
    "X = df.drop('JobSatisfaction', axis = 1)\n",
    "X_train, X_test, y_train, y_test = train_test_split(X, y, test_size = 0.2, random_state=0)"
   ]
  },
  {
   "cell_type": "code",
   "execution_count": 25,
   "id": "64cd9433-999b-4792-8dd9-6ea7d9dafc8a",
   "metadata": {},
   "outputs": [],
   "source": [
    "scaler = MinMaxScaler()\n",
    "X_train_scaled = scaler.fit_transform(X_train)\n",
    "X_test_scaled = scaler.transform(X_test)"
   ]
  },
  {
   "cell_type": "code",
   "execution_count": 12,
   "id": "427f3c3c-4ee3-4418-a28e-4dc2fa3292b1",
   "metadata": {},
   "outputs": [
    {
     "name": "stdout",
     "output_type": "stream",
     "text": [
      "Accuracy of Logistic Regression Classifier\n",
      "On training set, parameter c = 0.1 : 0.32\n",
      "On test set, parameter c = 0.1 : 0.28\n",
      "On training set, parameter c = 1 : 0.33\n",
      "On test set, parameter c = 1 : 0.30\n",
      "On training set, parameter c = 10 : 0.33\n",
      "On test set, parameter c = 10 : 0.32\n",
      "On training set, parameter c = 50 : 0.33\n",
      "On test set, parameter c = 50 : 0.30\n",
      "On training set, parameter c = 100 : 0.33\n",
      "On test set, parameter c = 100 : 0.30\n"
     ]
    }
   ],
   "source": [
    "#Logistic Regression with preprocessing\n",
    "\n",
    "print('Accuracy of Logistic Regression Classifier')\n",
    "\n",
    "for c in (0.1,1,10,50,100):\n",
    "    model = LogisticRegression(C=c).fit(X_train, y_train)\n",
    "    print('On training set, parameter c = {} : {:.2f}'\n",
    "          .format(c,model.score(X_train, y_train)))\n",
    "    print('On test set, parameter c = {} : {:.2f}'\n",
    "          .format(c,model.score(X_test, y_test)))"
   ]
  },
  {
   "cell_type": "code",
   "execution_count": 26,
   "id": "7206c52f-f655-4f35-8885-163df3d770d2",
   "metadata": {},
   "outputs": [
    {
     "name": "stdout",
     "output_type": "stream",
     "text": [
      "Accuracy of Support Vector Classifier\n",
      "On training set with gamma = 0.1 and parameter c = 0.01: 0.32\n",
      "On test set with gamma = 0.1 and parameter c = 0.01: 0.30\n",
      "On training set with gamma = 1 and parameter c = 0.01: 0.32\n",
      "On test set with gamma = 1 and parameter c = 0.01: 0.30\n",
      "On training set with gamma = 5 and parameter c = 0.01: 0.32\n",
      "On test set with gamma = 5 and parameter c = 0.01: 0.30\n",
      "On training set with gamma = 13 and parameter c = 0.01: 0.32\n",
      "On test set with gamma = 13 and parameter c = 0.01: 0.30\n",
      "On training set with gamma = 0.1 and parameter c = 0.1: 0.32\n",
      "On test set with gamma = 0.1 and parameter c = 0.1: 0.30\n",
      "On training set with gamma = 1 and parameter c = 0.1: 0.32\n",
      "On test set with gamma = 1 and parameter c = 0.1: 0.30\n",
      "On training set with gamma = 5 and parameter c = 0.1: 0.32\n",
      "On test set with gamma = 5 and parameter c = 0.1: 0.30\n",
      "On training set with gamma = 13 and parameter c = 0.1: 0.32\n",
      "On test set with gamma = 13 and parameter c = 0.1: 0.30\n",
      "On training set with gamma = 0.1 and parameter c = 1: 0.39\n",
      "On test set with gamma = 0.1 and parameter c = 1: 0.33\n",
      "On training set with gamma = 1 and parameter c = 1: 0.95\n",
      "On test set with gamma = 1 and parameter c = 1: 0.32\n",
      "On training set with gamma = 5 and parameter c = 1: 1.00\n",
      "On test set with gamma = 5 and parameter c = 1: 0.30\n",
      "On training set with gamma = 13 and parameter c = 1: 1.00\n",
      "On test set with gamma = 13 and parameter c = 1: 0.30\n",
      "On training set with gamma = 0.1 and parameter c = 10: 0.61\n",
      "On test set with gamma = 0.1 and parameter c = 10: 0.33\n",
      "On training set with gamma = 1 and parameter c = 10: 1.00\n",
      "On test set with gamma = 1 and parameter c = 10: 0.31\n",
      "On training set with gamma = 5 and parameter c = 10: 1.00\n",
      "On test set with gamma = 5 and parameter c = 10: 0.30\n",
      "On training set with gamma = 13 and parameter c = 10: 1.00\n",
      "On test set with gamma = 13 and parameter c = 10: 0.30\n",
      "On training set with gamma = 0.1 and parameter c = 50: 0.87\n",
      "On test set with gamma = 0.1 and parameter c = 50: 0.29\n",
      "On training set with gamma = 1 and parameter c = 50: 1.00\n",
      "On test set with gamma = 1 and parameter c = 50: 0.31\n",
      "On training set with gamma = 5 and parameter c = 50: 1.00\n",
      "On test set with gamma = 5 and parameter c = 50: 0.30\n",
      "On training set with gamma = 13 and parameter c = 50: 1.00\n",
      "On test set with gamma = 13 and parameter c = 50: 0.30\n",
      "On training set with gamma = 0.1 and parameter c = 100: 0.95\n",
      "On test set with gamma = 0.1 and parameter c = 100: 0.26\n",
      "On training set with gamma = 1 and parameter c = 100: 1.00\n",
      "On test set with gamma = 1 and parameter c = 100: 0.31\n",
      "On training set with gamma = 5 and parameter c = 100: 1.00\n",
      "On test set with gamma = 5 and parameter c = 100: 0.30\n",
      "On training set with gamma = 13 and parameter c = 100: 1.00\n",
      "On test set with gamma = 13 and parameter c = 100: 0.30\n"
     ]
    }
   ],
   "source": [
    "print('Accuracy of Support Vector Classifier')\n",
    "for c in (0.01,0.1,1,10,50,100):\n",
    "    for g in (0.1,1,5,13):\n",
    "        model = SVC(kernel = 'rbf', gamma=g, C = c).fit(X_train_scaled, y_train)\n",
    "        print('On training set with gamma = {} and parameter c = {}: {:.2f}'.format(g,c,model.score(X_train_scaled, y_train)))\n",
    "        print('On test set with gamma = {} and parameter c = {}: {:.2f}'.format(g,c,model.score(X_test_scaled, y_test)))"
   ]
  },
  {
   "cell_type": "code",
   "execution_count": 13,
   "id": "acfdf1eb-7144-4c6d-a450-f6843049aa1b",
   "metadata": {},
   "outputs": [
    {
     "name": "stdout",
     "output_type": "stream",
     "text": [
      "Accuracy of K-Nearest Neighbor Classifier\n",
      "On training set with 1 neigbors: 1.00\n",
      "On test set with 1 neigbors: 0.22\n",
      "On training set with 2 neigbors: 0.62\n",
      "On test set with 2 neigbors: 0.22\n",
      "On training set with 3 neigbors: 0.59\n",
      "On test set with 3 neigbors: 0.22\n",
      "On training set with 4 neigbors: 0.53\n",
      "On test set with 4 neigbors: 0.27\n",
      "On training set with 5 neigbors: 0.50\n",
      "On test set with 5 neigbors: 0.24\n",
      "On training set with 6 neigbors: 0.48\n",
      "On test set with 6 neigbors: 0.26\n",
      "On training set with 7 neigbors: 0.47\n",
      "On test set with 7 neigbors: 0.28\n",
      "On training set with 8 neigbors: 0.47\n",
      "On test set with 8 neigbors: 0.26\n",
      "On training set with 9 neigbors: 0.46\n",
      "On test set with 9 neigbors: 0.27\n",
      "On training set with 10 neigbors: 0.46\n",
      "On test set with 10 neigbors: 0.26\n",
      "On training set with 11 neigbors: 0.42\n",
      "On test set with 11 neigbors: 0.26\n",
      "On training set with 12 neigbors: 0.42\n",
      "On test set with 12 neigbors: 0.27\n",
      "On training set with 13 neigbors: 0.42\n",
      "On test set with 13 neigbors: 0.27\n",
      "On training set with 14 neigbors: 0.41\n",
      "On test set with 14 neigbors: 0.28\n",
      "On training set with 15 neigbors: 0.42\n",
      "On test set with 15 neigbors: 0.30\n",
      "On training set with 16 neigbors: 0.42\n",
      "On test set with 16 neigbors: 0.27\n",
      "On training set with 17 neigbors: 0.41\n",
      "On test set with 17 neigbors: 0.29\n",
      "On training set with 18 neigbors: 0.41\n",
      "On test set with 18 neigbors: 0.30\n",
      "On training set with 19 neigbors: 0.39\n",
      "On test set with 19 neigbors: 0.26\n"
     ]
    }
   ],
   "source": [
    "print('Accuracy of K-Nearest Neighbor Classifier')\n",
    "for i in range(1, 20):\n",
    "    model = KNeighborsClassifier(n_neighbors=i).fit(X_train,y_train) \n",
    "    print('On training set with {} neigbors: {:.2f}'.format(i,model.score(X_train, y_train)))\n",
    "    print('On test set with {} neigbors: {:.2f}'.format(i,model.score(X_test, y_test)))"
   ]
  },
  {
   "cell_type": "code",
   "execution_count": 16,
   "id": "5db4bdb7-67ca-4ff2-bbce-ab0c6921523c",
   "metadata": {},
   "outputs": [
    {
     "name": "stdout",
     "output_type": "stream",
     "text": [
      "Accuracy of Decision Tree Classifier\n",
      "On training set, max depth = 1, min elaf samples = 4: 0.34\n",
      "On test set, max depth = 1, min leaf samples = 4: 0.29\n",
      "On training set, max depth = 1, min elaf samples = 8: 0.34\n",
      "On test set, max depth = 1, min leaf samples = 8: 0.29\n",
      "On training set, max depth = 1, min elaf samples = 12: 0.34\n",
      "On test set, max depth = 1, min leaf samples = 12: 0.29\n",
      "On training set, max depth = 1, min elaf samples = 16: 0.34\n",
      "On test set, max depth = 1, min leaf samples = 16: 0.29\n",
      "On training set, max depth = 3, min elaf samples = 4: 0.37\n",
      "On test set, max depth = 3, min leaf samples = 4: 0.27\n",
      "On training set, max depth = 3, min elaf samples = 8: 0.36\n",
      "On test set, max depth = 3, min leaf samples = 8: 0.28\n",
      "On training set, max depth = 3, min elaf samples = 12: 0.37\n",
      "On test set, max depth = 3, min leaf samples = 12: 0.27\n",
      "On training set, max depth = 3, min elaf samples = 16: 0.37\n",
      "On test set, max depth = 3, min leaf samples = 16: 0.27\n",
      "On training set, max depth = 5, min elaf samples = 4: 0.41\n",
      "On test set, max depth = 5, min leaf samples = 4: 0.28\n",
      "On training set, max depth = 5, min elaf samples = 8: 0.41\n",
      "On test set, max depth = 5, min leaf samples = 8: 0.28\n",
      "On training set, max depth = 5, min elaf samples = 12: 0.41\n",
      "On test set, max depth = 5, min leaf samples = 12: 0.30\n",
      "On training set, max depth = 5, min elaf samples = 16: 0.40\n",
      "On test set, max depth = 5, min leaf samples = 16: 0.28\n",
      "On training set, max depth = 7, min elaf samples = 4: 0.48\n",
      "On test set, max depth = 7, min leaf samples = 4: 0.32\n",
      "On training set, max depth = 7, min elaf samples = 8: 0.48\n",
      "On test set, max depth = 7, min leaf samples = 8: 0.29\n",
      "On training set, max depth = 7, min elaf samples = 12: 0.44\n",
      "On test set, max depth = 7, min leaf samples = 12: 0.31\n",
      "On training set, max depth = 7, min elaf samples = 16: 0.43\n",
      "On test set, max depth = 7, min leaf samples = 16: 0.29\n",
      "On training set, max depth = 10, min elaf samples = 4: 0.56\n",
      "On test set, max depth = 10, min leaf samples = 4: 0.30\n",
      "On training set, max depth = 10, min elaf samples = 8: 0.52\n",
      "On test set, max depth = 10, min leaf samples = 8: 0.27\n",
      "On training set, max depth = 10, min elaf samples = 12: 0.47\n",
      "On test set, max depth = 10, min leaf samples = 12: 0.30\n",
      "On training set, max depth = 10, min elaf samples = 16: 0.46\n",
      "On test set, max depth = 10, min leaf samples = 16: 0.29\n"
     ]
    }
   ],
   "source": [
    "print('Accuracy of Decision Tree Classifier')\n",
    "for p in (1,3,5,7,10):\n",
    "    for l in (4,8,12,16):\n",
    "        model = DecisionTreeClassifier(max_depth = p, min_samples_leaf = l).fit(X_train, y_train)\n",
    "        print('On training set, max depth = {}, min elaf samples = {}: {:.2f}'.format(p,l,model.score(X_train, y_train)))\n",
    "        print('On test set, max depth = {}, min leaf samples = {}: {:.2f}'.format(p,l,model.score(X_test, y_test)))"
   ]
  },
  {
   "cell_type": "code",
   "execution_count": 21,
   "id": "c391fdd9-285b-4359-a825-f83438f75fc7",
   "metadata": {},
   "outputs": [
    {
     "name": "stdout",
     "output_type": "stream",
     "text": [
      "0.31971871619185\n",
      "{'criterion': 'entropy', 'max_features': 'sqrt', 'max_samples': 0.2, 'n_estimators': 170}\n"
     ]
    }
   ],
   "source": [
    "bosque = RandomForestClassifier()\n",
    "param = {'criterion': ('gini', 'entropy', 'log_loss'), 'n_estimators': (150, 170, 100), 'max_samples': (1/3, 1/4, 1/5),\n",
    "        'max_features' : ('sqrt', 'log2')}\n",
    "grid = GridSearchCV(bosque, param, scoring = 'accuracy').fit(X_train,y_train)\n",
    "print(grid.best_score_)\n",
    "print(grid.best_params_)"
   ]
  },
  {
   "cell_type": "code",
   "execution_count": 19,
   "id": "bb9d996d-9c7c-4e55-9de8-76ac42a77a48",
   "metadata": {},
   "outputs": [
    {
     "data": {
      "text/plain": [
       "0.2619047619047619"
      ]
     },
     "execution_count": 19,
     "metadata": {},
     "output_type": "execute_result"
    }
   ],
   "source": [
    "grid.score(X_test,y_test)"
   ]
  },
  {
   "cell_type": "markdown",
   "id": "9cf90917-5e66-49ad-ac6b-c39a74a388c6",
   "metadata": {},
   "source": [
    "So, reviewing the options of models we see there's not model good enought. However, the best of what we got was with SVC with gamma = 0,1 and parameter c=1. The score on trainning set is 39% and 33% on test set. \n",
    "The less overfit moodel and with higher score is with Logistic Regression with parameter c = 10. The score is 33% in training set and 32% in test set."
   ]
  },
  {
   "cell_type": "code",
   "execution_count": null,
   "id": "4f260974-8f9c-4845-88cd-800b615f64ff",
   "metadata": {},
   "outputs": [],
   "source": []
  }
 ],
 "metadata": {
  "kernelspec": {
   "display_name": "Python 3 (ipykernel)",
   "language": "python",
   "name": "python3"
  },
  "language_info": {
   "codemirror_mode": {
    "name": "ipython",
    "version": 3
   },
   "file_extension": ".py",
   "mimetype": "text/x-python",
   "name": "python",
   "nbconvert_exporter": "python",
   "pygments_lexer": "ipython3",
   "version": "3.8.10"
  }
 },
 "nbformat": 4,
 "nbformat_minor": 5
}
